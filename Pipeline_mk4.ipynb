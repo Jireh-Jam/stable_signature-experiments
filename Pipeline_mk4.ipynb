{
 "cells": [
  {
   "cell_type": "markdown",
   "metadata": {},
   "source": [
    "# Watermarking experiments (guided)\n",
    "\n",
    "This notebook helps you run a complete watermark evaluation without needing any technical background.\n",
    "\n",
    "What you will do:\n",
    "- Install what is needed.\n",
    "- Tell the notebook where your images are.\n",
    "- Choose the watermark model (defaults are sensible).\n",
    "- Run the evaluation and read the results.\n",
    "\n",
    "If you are unsure, simply run each cell from top to bottom."
   ]
  },
  {
   "cell_type": "markdown",
   "metadata": {},
   "source": [
    "## Step 1 — Set up\n",
    "We will install the required packages. This may take a minute the first time."
   ]
  },
  {
   "cell_type": "code",
   "execution_count": null,
   "metadata": {},
   "outputs": [],
   "source": [
    "!pip -q install -r requirements.txt pyyaml\n"
   ]
  },
  {
   "cell_type": "markdown",
   "metadata": {},
   "source": [
    "## Step 2 — Point to your images\n",
    "Please enter the folders containing your images.\n",
    "- `img_dir` is the folder with images that may contain a watermark.\n",
    "- `img_dir_nw` is the folder with the matching non‑watermarked images (same filenames).\n",
    "- `img_dir_fid` is optional and used for the FID score against a reference set. Leave as `None` if unsure."
   ]
  },
  {
   "cell_type": "code",
   "execution_count": null,
   "metadata": {},
   "outputs": [],
   "source": [
    "img_dir = 'path/to/watermarked_images'\n",
    "img_dir_nw = 'path/to/non_watermarked_images'\n",
    "img_dir_fid = None  # e.g. 'path/to/reference_images' or leave as None\n",
    "output_dir = 'output/notebook_run'\n"
   ]
  },
  {
   "cell_type": "markdown",
   "metadata": {},
   "source": [
    "## Step 3 — Choose the watermark model\n",
    "The default HiDDeN‑style decoder works out of the box. If you downloaded the TorchScript file above, you do not need to change anything below.\n",
    "\n",
    "If you are using a `.pth` file instead, please set `num_bits`, `redundancy`, `decoder_depth`, and `decoder_channels` accordingly."
   ]
  },
  {
   "cell_type": "code",
   "execution_count": null,
   "metadata": {},
   "outputs": [],
   "source": [
    "model_name = 'hidden'  # keep as 'hidden' unless you add other models\n",
    "msg_decoder_path = 'models/dec_48b_whit.torchscript.pt'  # path to your decoder checkpoint\n",
    "num_bits = 48\n",
    "redundancy = 1\n",
    "decoder_depth = 8\n",
    "decoder_channels = 64\n",
    "device = 'auto'  # 'auto', 'cpu', or 'cuda'\n"
   ]
  },
  {
   "cell_type": "markdown",
   "metadata": {},
   "source": [
    "## Step 4 — Choose what to measure\n",
    "Leave the defaults if unsure.\n",
    "- Turn on image quality metrics with `eval_imgs`.\n",
    "- Turn on bit decoding and robustness with `eval_bits`.\n",
    "- If you only want the decoded bit‑strings, set `decode_only = True`.\n",
    "- If decoding with a known key, set `key_str` (a string of 0s and 1s)."
   ]
  },
  {
   "cell_type": "code",
   "execution_count": null,
   "metadata": {},
   "outputs": [],
   "source": [
    "eval_imgs = True\n",
    "eval_bits = True\n",
    "decode_only = False\n",
    "key_str = '111010110101000001010111010011010100010000100111'  # change only if you know the key\n",
    "batch_size = 32\n",
    "attack_mode = 'few'  # one of: 'none', 'few', 'all'\n",
    "save_n_imgs = 5\n",
    "num_imgs = None  # set to a number to limit how many images are processed\n"
   ]
  },
  {
   "cell_type": "markdown",
   "metadata": {},
   "source": [
    "## Step 5 — Create a configuration file (done for you)\n",
    "We will now write a small configuration file the runner uses."
   ]
  },
  {
   "cell_type": "code",
   "execution_count": null,
   "metadata": {},
   "outputs": [],
   "source": [
    "import os, yaml\n",
    "cfg = {\n",
    "  'output_dir': output_dir,\n",
    "  'img_dir': img_dir,\n",
    "  'img_dir_nw': img_dir_nw,\n",
    "  'img_dir_fid': img_dir_fid,\n",
    "  'save_n_imgs': save_n_imgs,\n",
    "  'num_imgs': num_imgs,\n",
    "  'eval_imgs': eval_imgs,\n",
    "  'eval_bits': eval_bits,\n",
    "  'decode_only': decode_only,\n",
    "  'key_str': key_str,\n",
    "  'batch_size': batch_size,\n",
    "  'attack_mode': attack_mode,\n",
    "  'model': {\n",
    "    'name': model_name,\n",
    "    'msg_decoder_path': msg_decoder_path,\n",
    "    'num_bits': num_bits,\n",
    "    'redundancy': redundancy,\n",
    "    'decoder_depth': decoder_depth,\n",
    "    'decoder_channels': decoder_channels,\n",
    "    'device': device,\n",
    "  }\n",
    "}\n",
    "os.makedirs('configs', exist_ok=True)\n",
    "with open('configs/from_notebook.yaml', 'w') as f: yaml.safe_dump(cfg, f)\n",
    "print('Wrote configs/from_notebook.yaml')\n"
   ]
  },
  {
   "cell_type": "markdown",
   "metadata": {},
   "source": [
    "## Step 6 — Run the experiment\n",
    "This will compute the requested metrics and save results in your `output_dir`."
   ]
  },
  {
   "cell_type": "code",
   "execution_count": null,
   "metadata": {},
   "outputs": [],
   "source": [
    "!python -m experiments.runner --config configs/from_notebook.yaml\n"
   ]
  },
  {
   "cell_type": "markdown",
   "metadata": {},
   "source": [
    "## Step 7 — Read the results\n",
    "Two CSV files will be produced if the corresponding options were enabled:\n",
    "- `img_metrics.csv`: image quality metrics between your watermarked and non‑watermarked images.\n",
    "- `log_stats.csv`: bit accuracy or decoded bit‑strings under various common edits.\n",
    "\n",
    "The folder `output_dir/imgs/` also contains a few example pairs and their visual differences."
   ]
  },
  {
   "cell_type": "code",
   "execution_count": null,
   "metadata": {},
   "outputs": [],
   "source": [
    "import os, pandas as pd\n",
    "from pathlib import Path\n",
    "print('Output folder:', output_dir)\n",
    "metrics_csv = Path(output_dir) / 'img_metrics.csv'\n",
    "stats_csv = Path(output_dir) / 'log_stats.csv'\n",
    "if metrics_csv.exists():\n",
    "    display(pd.read_csv(metrics_csv).head())\n",
    "else:\n",
    "    print('img_metrics.csv not found (image metrics were likely disabled).')\n",
    "if stats_csv.exists():\n",
    "    display(pd.read_csv(stats_csv).head())\n",
    "else:\n",
    "    print('log_stats.csv not found (bit evaluation was likely disabled).')\n"
   ]
  }
 ],
 "metadata": {
  "kernelspec": {
   "display_name": "Python 3",
   "language": "python",
   "name": "python3"
  },
  "language_info": {
   "name": "python",
   "pygments_lexer": "ipython3"
  }
 },
 "nbformat": 4,
 "nbformat_minor": 5
}
