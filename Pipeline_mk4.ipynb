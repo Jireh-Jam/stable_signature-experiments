{
  "cells": [
    {
      "cell_type": "markdown",
      "metadata": {},
      "source": [
        "# Watermark detection – step‑by‑step guide\n\n",
        "This notebook helps you check whether images contain a watermark and how robust that watermark is to simple edits. It is written for non‑technical users and works both on your computer and in cloud notebooks.\n\n",
        "What you will do:\n",
        "- Choose a watermarking method (Stable Signature available today; more coming).\n",
        "- Point the notebook at a folder of images.\n",
        "- Optionally, provide a folder of the original (non‑watermarked) images for quality comparisons.\n",
        "- Run detection/decoding and save results as CSV files you can share.\n"
      ]
    },
    {
      "cell_type": "markdown",
      "metadata": {},
      "source": [
        "## Before you start\n\n",
        "Please make sure you have:\n",
        "- A folder of images to analyse (for example, `data/watermarked`).\n",
        "- If you have the originals without watermark, a second folder with the matching images (optional).\n",
        "- For Stable Signature, a small model file (we will download it for you if missing).\n\n",
        "Tip: You do not need to install anything manually if you use this notebook in a managed environment (e.g. cloud). If a library is missing, the next cell will install it for you."
      ]
    },
    {
      "cell_type": "code",
      "execution_count": null,
      "metadata": {},
      "outputs": [],
      "source": [
        "# This cell quietly ensures required libraries are available.\n",
        "import importlib.util, sys, subprocess\n",
        "\n",
        "def ensure(pkg: str, pip_name: str = None):\n",
        "    if importlib.util.find_spec(pkg) is None:\n",
        "        print(f\"Installing {pip_name or pkg}...\")\n",
        "        subprocess.check_call([sys.executable, '-m', 'pip', 'install', '-q', pip_name or pkg])\n",
        "\n",
        "# Core utilities\n",
        "ensure('pandas')\n",
        "ensure('torch')\n",
        "ensure('torchvision')\n",
        "ensure('skimage', 'scikit-image')\n",
        "ensure('pytorch_fid')\n",
        "\n",
        "print('Libraries are ready.')\n"
      ]
    },
    {
      "cell_type": "markdown",
      "metadata": {},
      "source": [
        "## Choose your settings\n\n",
        "Please edit only the values on the right‑hand side of each line. If you are unsure, leave the defaults as they are. All paths can be absolute (beginning with `/`) or relative to this notebook file.\n\n",
        "Notes:\n",
        "- `model_name`: \"stable_signature\" is supported today. New models can be added later without changing this notebook.\n",
        "- `img_dir_nw`: optional folder containing the original, non‑watermarked images (for quality comparison).\n",
        "- `key_str`: for Stable Signature, supply the bitstring if you want accuracy against the key. Leave blank to only decode bits (set `decode_only` to True).\n",
        "- `attack_mode`: \"none\" (no edits), \"few\" (a small, realistic set), or \"all\" (thorough).\n"
      ]
    },
    {
      "cell_type": "code",
      "execution_count": null,
      "metadata": {},
      "outputs": [],
      "source": [
        "# Settings – change these as needed\n",
        "model_name = 'stable_signature'           # Options: 'stable_signature' (more coming soon)\n",
        "img_dir = 'data/watermarked'             # Folder of images to analyse\n",
        "img_dir_nw = None                        # Optional folder of original, non‑watermarked images\n",
        "output_dir = 'output/notebook'           # Where to save the CSV results\n",
        "\n",
        "# Stable Signature only\n",
        "key_str = '111010110101000001010111010011010100010000100111'  # Leave '' if unknown and set decode_only=True\n",
        "decode_only = False                        # True: only decode bits; False: compute accuracy against key\n",
        "attack_mode = 'few'                        # 'none' | 'few' | 'all'\n",
        "msg_decoder_path = 'models/dec_48b_whit.torchscript.pt'  # Will be downloaded below if missing\n"
      ]
    },
    {
      "cell_type": "markdown",
      "metadata": {},
      "source": [
        "## Prepare model files (Stable Signature)\n\n",
        "If you selected Stable Signature and the small decoder file is missing, this cell will download it automatically."
      ]
    },
    {
      "cell_type": "code",
      "execution_count": null,
      "metadata": {},
      "outputs": [],
      "source": [
        "import os, urllib.request\n",
        "from pathlib import Path\n",
        "\n",
        "if model_name == 'stable_signature':\n",
        "    os.makedirs(os.path.dirname(msg_decoder_path), exist_ok=True)\n",
        "    if not Path(msg_decoder_path).exists():\n",
        "        url = 'https://dl.fbaipublicfiles.com/ssl_watermarking/dec_48b_whit.torchscript.pt'\n",
        "        print('Downloading Stable Signature decoder (once only)...')\n",
        "        urllib.request.urlretrieve(url, msg_decoder_path)\n",
        "        print('Saved to', msg_decoder_path)\n",
        "    else:\n",
        "        print('Decoder file already present at', msg_decoder_path)\n",
        "else:\n",
        "    print('No model files needed for this selection.')\n"
      ]
    },
    {
      "cell_type": "markdown",
      "metadata": {},
      "source": [
        "## Run the evaluation\n\n",
        "This cell analyses your images and saves two CSV files in `output/notebook` (or your chosen folder):\n",
        "- `log_stats.csv`: detection/bit results per image (and per edit).\n",
        "- `img_metrics.csv`: optional image‑to‑image quality metrics (SSIM, PSNR, Linf) if you provided `img_dir_nw`.\n\n",
        "You will also see a preview of the first few rows."
      ]
    },
    {
      "cell_type": "code",
      "execution_count": null,
      "metadata": {},
      "outputs": [],
      "source": [
        "import os\n",
        "import pandas as pd\n",
        "\n",
        "# Use the simple pluggable interface added to the repository\n",
        "from watermarking.registry import get_model\n",
        "import run_evals as _evals  # for optional quality metrics\n",
        "\n",
        "os.makedirs(output_dir, exist_ok=True)\n",
        "\n",
        "model = get_model(model_name)\n",
        "prepare_kwargs = {}\n",
        "if model_name == 'stable_signature':\n",
        "    prepare_kwargs['msg_decoder_path'] = msg_decoder_path\n",
        "model.prepare(**prepare_kwargs)\n",
        "\n",
        "rows = model.evaluate_images(\n",
        "    img_dir=img_dir,\n",
        "    key_str=None if decode_only else key_str,\n",
        "    decode_only=decode_only,\n",
        "    attack_mode=attack_mode,\n",
        "    batch_size=32,\n",
        ")\n",
        "df = pd.DataFrame(rows)\n",
        "df.to_csv(os.path.join(output_dir, 'log_stats.csv'), index=False)\n",
        "print('Saved detection/bit results to', os.path.join(output_dir, 'log_stats.csv'))\n",
        "df.head()\n"
      ]
    },
    {
      "cell_type": "code",
      "execution_count": null,
      "metadata": {},
      "outputs": [],
      "source": [
        "# Optional: compute image‑to‑image quality metrics if you have non‑watermarked originals\n",
        "import numpy as np\n",
        "\n",
        "if img_dir_nw:\n",
        "    print('Computing image similarity metrics (SSIM / PSNR / Linf)...')\n",
        "    img_metrics = _evals.get_img_metric(img_dir, img_dir_nw)\n",
        "    img_df = pd.DataFrame(img_metrics)\n",
        "    img_df.to_csv(os.path.join(output_dir, 'img_metrics.csv'), index=False)\n",
        "    print('Saved image metrics to', os.path.join(output_dir, 'img_metrics.csv'))\n",
        "    # Small summary\n",
        "    ssims, psnrs, linfs = img_df['ssim'], img_df['psnr'], img_df['linf']\n",
        "    print(f\"SSIM: {np.mean(ssims):.4f} ± {np.std(ssims):.4f}\")\n",
        "    print(f\"PSNR: {np.mean(psnrs):.4f} ± {np.std(psnrs):.4f}\")\n",
        "    print(f\"Linf: {np.mean(linfs):.4f} ± {np.std(linfs):.4f}\")\n",
        "else:\n",
        "    print('Skipped image metrics (no non‑watermarked folder provided).')\n"
      ]
    },
    {
      "cell_type": "markdown",
      "metadata": {},
      "source": [
        "## What next?\n\n",
        "- Share the CSV files from your output folder via email or chat.\n",
        "- Re‑run with a different `attack_mode` for a more thorough test.\n",
        "- When additional watermarking models are added to this repository, you will be able to select them by name in the settings cell without further changes.\n"
      ]
    }
  ],
  "metadata": {
    "kernelspec": {
      "display_name": "Python 3",
      "language": "python",
      "name": "python3"
    },
    "language_info": {
      "name": "python",
      "version": "3"
    }
  },
  "nbformat": 4,
  "nbformat_minor": 5
}
