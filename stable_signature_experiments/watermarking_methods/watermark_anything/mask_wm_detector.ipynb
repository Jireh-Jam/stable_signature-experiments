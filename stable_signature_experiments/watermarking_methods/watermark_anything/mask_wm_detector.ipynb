{
  "cells": [
    {
      "cell_type": "code",
      "source": [
        "import os\n",
        "import torch\n",
        "from PIL import Image\n",
        "import torch.nn.functional as F\n",
        "\n",
        "from watermark_anything.data.metrics import msg_predict_inference\n",
        "from notebooks.inference_utils import (\n",
        "    load_model_from_checkpoint, \n",
        "    default_transform, \n",
        "    msg2str,\n",
        "    multiwm_dbscan\n",
        ")\n",
        "\n",
        "device = torch.device(\"cuda\" if torch.cuda.is_available() else \"cpu\")\n",
        "\n",
        "# Load the model\n",
        "exp_dir = \"checkpoints\"\n",
        "json_path = os.path.join(exp_dir, \"params.json\")\n",
        "ckpt_path = os.path.join(exp_dir, 'wam_mit.pth')\n",
        "wam = load_model_from_checkpoint(json_path, ckpt_path).to(device).eval()\n",
        "\n",
        "# DBSCAN parameters\n",
        "epsilon = 1\n",
        "min_samples = 700\n",
        "\n",
        "# Configuration\n",
        "output_dir = \"outputs_H\"\n",
        "specific_watermark_dir = os.path.join(output_dir, \"specific_mask_watermarked\")\n",
        "\n",
        "# List all specific mask watermarked images\n",
        "wm_files = [f for f in os.listdir(specific_watermark_dir) if f.endswith('_wm.png')]\n",
        "\n",
        "print(f\"Found {len(wm_files)} specific mask watermarked images in {specific_watermark_dir}\")\n",
        "print(f\"DBSCAN parameters: epsilon={epsilon}, min_samples={min_samples}\")\n",
        "print(\"-\" * 80)"
      ],
      "outputs": [
        {
          "output_type": "stream",
          "name": "stdout",
          "text": "making attention of type 'vanilla' with 64 in_channels\nWorking with z of shape (1, 68, 32, 32) = 69632 dimensions.\nmaking attention of type 'vanilla' with 64 in_channels\nModel loaded successfully from checkpoints/wam_mit.pth\n{'embedder_config': 'configs/embedder.yaml', 'augmentation_config': 'configs/all_augs_multi_wm.yaml', 'extractor_config': 'configs/extractor.yaml', 'attenuation_config': 'configs/attenuation.yaml', 'embedder_model': 'vae_small', 'extractor_model': 'sam_base', 'nbits': 32, 'img_size': 256, 'img_size_extractor': 256, 'attenuation': 'jnd_1_3_blue', 'scaling_w': 2.0, 'scaling_w_schedule': None, 'scaling_i': 1.0, 'roll_probability': 0.2, 'multiple_w': 1.0, 'nb_wm_eval': 5, 'optimizer': 'AdamW,lr=1e-4', 'optimizer_d': None, 'scheduler': 'CosineLRScheduler,lr_min=1e-6,t_initial=100,warmup_lr_init=1e-6,warmup_t=5', 'epochs': 200, 'batch_size': 8, 'batch_size_eval': 16, 'temperature': 1.0, 'workers': 8, 'to_freeze_embedder': None, 'lambda_w': 1.0, 'lambda_w2': 6.0, 'lambda_i': 0.0, 'lambda_d': 0.0, 'balanced': True, 'total_gnorm': 0.0, 'perceptual_loss': 'none', 'disc_start': 0, 'disc_num_layers': 2, 'only_eval': False, 'eval_freq': 5, 'saveimg_freq': 5, 'saveckpt_freq': 50, 'seed': 42, 'debug_slurm': False, 'local_rank': 0, 'master_port': 18482, 'is_slurm_job': True, 'n_nodes': 1, 'node_id': 0, 'global_rank': 0, 'world_size': 8, 'n_gpu_per_node': 8, 'is_master': True, 'multi_node': False, 'distributed': True}\nFound 1 specific mask watermarked images in outputs_H/specific_mask_watermarked\nDBSCAN parameters: epsilon=1, min_samples=700\n--------------------------------------------------------------------------------\n"
        }
      ],
      "execution_count": 1,
      "metadata": {
        "gather": {
          "logged": 1750912399948
        }
      }
    },
    {
      "cell_type": "code",
      "source": [
        "for wm_file in wm_files:\n",
        "    wm_path = os.path.join(specific_watermark_dir, wm_file)\n",
        "    \n",
        "    # Load the watermarked image\n",
        "    img = Image.open(wm_path).convert(\"RGB\")\n",
        "    img_tensor = default_transform(img).unsqueeze(0).to(device)\n",
        "    \n",
        "    # Detect watermarks\n",
        "    preds = wam.detect(img_tensor)[\"preds\"]\n",
        "    mask_preds = F.sigmoid(preds[:, 0, :, :])\n",
        "    bit_preds = preds[:, 1:, :, :]\n",
        "    \n",
        "    # Use DBSCAN to find multiple watermarks\n",
        "    centroids, positions = multiwm_dbscan(bit_preds, mask_preds, epsilon=epsilon, min_samples=min_samples)\n",
        "    \n",
        "    print(f\"{wm_file}: Found {len(centroids)} messages\")\n",
        "    \n",
        "    if centroids:\n",
        "        centroids_pt = torch.stack(list(centroids.values()))\n",
        "        for i, centroid in enumerate(centroids_pt):\n",
        "            print(f\"  Message {i+1}: {msg2str(centroid)}\")\n",
        "    else:\n",
        "        print(\"  No messages detected\")\n",
        "    \n",
        "    print(\"-\" * 40)"
      ],
      "outputs": [
        {
          "output_type": "stream",
          "name": "stderr",
          "text": "/anaconda/envs/watermark/lib/python3.9/site-packages/torchvision/transforms/functional.py:1603: UserWarning: The default value of the antialias parameter of all the resizing transforms (Resize(), RandomResizedCrop(), etc.) will change from None to True in v0.17, in order to be consistent across the PIL and Tensor backends. To suppress this warning, directly pass antialias=True (recommended, future default), antialias=None (current default, which means False for Tensors and True for PIL), or antialias=False (only works on Tensors - PIL will still use antialiasing). This also applies if you are using the inference transforms from the models weights: update the call to weights.transforms(antialias=True).\n  warnings.warn(\n"
        },
        {
          "output_type": "stream",
          "name": "stdout",
          "text": "ducks_specific_mask_wm.png: Found 2 messages\n  Message 1: 10111111111000101001010010110110\n  Message 2: 01100000000010111000100000010001\n----------------------------------------\n"
        }
      ],
      "execution_count": 2,
      "metadata": {
        "gather": {
          "logged": 1750912446990
        }
      }
    }
  ],
  "metadata": {
    "kernelspec": {
      "name": "watermark",
      "language": "python",
      "display_name": "Python watermark"
    },
    "language_info": {
      "name": "python",
      "version": "3.9.21",
      "mimetype": "text/x-python",
      "codemirror_mode": {
        "name": "ipython",
        "version": 3
      },
      "pygments_lexer": "ipython3",
      "nbconvert_exporter": "python",
      "file_extension": ".py"
    },
    "microsoft": {
      "ms_spell_check": {
        "ms_spell_check_language": "en"
      },
      "host": {
        "AzureML": {
          "notebookHasBeenCompleted": true
        }
      }
    },
    "kernel_info": {
      "name": "watermark"
    },
    "nteract": {
      "version": "nteract-front-end@1.0.0"
    }
  },
  "nbformat": 4,
  "nbformat_minor": 2
}